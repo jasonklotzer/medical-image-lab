{
 "cells": [
  {
   "cell_type": "code",
   "execution_count": null,
   "id": "81bf37a4-faed-448b-acbe-edb5d3712366",
   "metadata": {},
   "outputs": [],
   "source": [
    "my_ProjectID = \"medical-imaging-ai\""
   ]
  },
  {
   "cell_type": "code",
   "execution_count": null,
   "id": "92915303-b5ec-4b70-89f3-8fd352fdb4ee",
   "metadata": {},
   "outputs": [],
   "source": [
    "import os\n",
    "\n",
    "PROJECT_ID = \"\"\n",
    "\n",
    "if not os.getenv(\"IS_TESTING\"):\n",
    "    # Get your Google Cloud project ID from gcloud\n",
    "    shell_output=!gcloud config list --format 'value(core.project)' 2>/dev/null\n",
    "    PROJECT_ID = shell_output[0]\n",
    "    print(\"Project ID: \", PROJECT_ID)"
   ]
  },
  {
   "cell_type": "code",
   "execution_count": null,
   "id": "2af5130e-6db6-47db-911c-1c9494300c8d",
   "metadata": {},
   "outputs": [],
   "source": [
    "import numpy as np\n",
    "import pandas as pd\n"
   ]
  },
  {
   "cell_type": "code",
   "execution_count": null,
   "id": "2910ae51-e384-4d78-bc64-aeafd83f2571",
   "metadata": {},
   "outputs": [],
   "source": [
    "# CT image sample\n",
    "#my_SeriesInstanceUID = \"1.3.6.1.4.1.32722.99.99.203715003805996641695765332389135385095\"\n",
    "my_StudyInstanceUID = \"1.3.6.1.4.1.32722.99.99.203715003805996641695765332389135385095\"\n",
    "collection_ID = \"lctsc\"\n",
    "# pathology image sample\n",
    "#my_SeriesInstanceUID = \"1.3.6.1.4.1.5962.99.1.219702714.188810011.1640897242554.2.0\""
   ]
  },
  {
   "cell_type": "code",
   "execution_count": null,
   "id": "1850e806-3d6d-4fcb-beee-59448a26ec30",
   "metadata": {},
   "outputs": [],
   "source": [
    "%%bigquery idc_summary_df --project=$my_ProjectID \n",
    "\n",
    "SELECT\n",
    "  COUNT(DISTINCT(PatientID)) AS total_patients,\n",
    "  COUNT(DISTINCT(StudyInstanceUID)) AS total_studies,\n",
    "  COUNT(DISTINCT(SeriesInstanceUID)) AS total_series,\n",
    "  COUNT(DISTINCT(SOPInstanceUID)) AS total_instances,\n",
    "  COUNT(DISTINCT(collection_id)) AS total_collections,\n",
    "  SUM(instance_size)/(POW(1024,4)) AS total_size_TB\n",
    "FROM\n",
    "  `bigquery-public-data.idc_current.dicom_all`"
   ]
  },
  {
   "cell_type": "code",
   "execution_count": null,
   "id": "d1fc44c1-4fdd-416c-b327-89897a2b52ec",
   "metadata": {},
   "outputs": [],
   "source": [
    "idc_summary_df"
   ]
  },
  {
   "cell_type": "code",
   "execution_count": null,
   "id": "7db1e35c-6cd9-4411-9030-9d1e11fe4a7d",
   "metadata": {},
   "outputs": [],
   "source": [
    "from google.cloud import bigquery\n",
    "bq_client = bigquery.Client(my_ProjectID)\n",
    "\n",
    "selection_query = f\"\\\n",
    "  SELECT  \\\n",
    "    StudyInstanceUID, \\\n",
    "    SeriesInstanceUID, \\\n",
    "    SOPInstanceUID, \\\n",
    "    gcs_url \\\n",
    "  FROM \\\n",
    "    `bigquery-public-data.idc_current.dicom_all` \\\n",
    "  WHERE \\\n",
    "    StudyInstanceUID = \\\"{my_StudyInstanceUID}\\\"\"\n",
    "\n",
    "selection_result = bq_client.query(selection_query)\n",
    "selection_df = selection_result.result().to_dataframe()"
   ]
  },
  {
   "cell_type": "code",
   "execution_count": null,
   "id": "d3f76aa6-b46d-4bbf-b946-c059ee533ea0",
   "metadata": {},
   "outputs": [],
   "source": [
    "from google.cloud import bigquery\n",
    "bq_client = bigquery.Client(my_ProjectID)\n",
    "\n",
    "selection_query = f\"\\\n",
    "  WITH studies AS (SELECT DISTINCT StudyInstanceUID FROM `bigquery-public-data.idc_current.dicom_all` \\\n",
    "                  WHERE collection_id =  \\\"{collection_ID}\\\"  \\\n",
    "                    LIMIT 10) \\\n",
    "  SELECT  \\\n",
    "    StudyInstanceUID, \\\n",
    "    SeriesInstanceUID, \\\n",
    "    SOPInstanceUID, \\\n",
    "    gcs_url \\\n",
    "  FROM \\\n",
    "    `bigquery-public-data.idc_current.dicom_all` INNER JOIN studies USING(StudyInstanceUID) \\\n",
    "    \"\n",
    "\n",
    "selection_result = bq_client.query(selection_query)\n",
    "selection_df = selection_result.result().to_dataframe()"
   ]
  },
  {
   "cell_type": "code",
   "execution_count": null,
   "id": "9f39581d-cf82-402a-a5ee-33673b8caa9d",
   "metadata": {},
   "outputs": [],
   "source": [
    "collection_ID"
   ]
  },
  {
   "cell_type": "code",
   "execution_count": null,
   "id": "1f54d847-25ec-493b-b33d-275eadc08e7f",
   "metadata": {},
   "outputs": [],
   "source": [
    "selection_query = f\"\\\n",
    "  SELECT DISTINCT StudyInstanceUID FROM `bigquery-public-data.idc_current.dicom_all` \\\n",
    "        WHERE collection_id =  \\\"{collection_ID}\\\"  \\\n",
    "         LIMIT 10\"\n",
    "\n",
    "selection_result = bq_client.query(selection_query)\n",
    "selection_df = selection_result.result().to_dataframe()"
   ]
  },
  {
   "cell_type": "code",
   "execution_count": null,
   "id": "8b6c83a0-d32e-4ada-bf15-c50ba544489d",
   "metadata": {},
   "outputs": [],
   "source": [
    "pd.set_option('display.max_colwidth', None)\n",
    "\n",
    "selection_df"
   ]
  },
  {
   "cell_type": "code",
   "execution_count": null,
   "id": "1c9ad98b-ba95-4acb-a99d-d5cf42a66aae",
   "metadata": {},
   "outputs": [],
   "source": [
    "# save the list of files\n",
    "# save the list of GCS URLs into a file\n",
    "import os\n",
    "idc_download_folder = \"./IDC_downloads\"\n",
    "if not os.path.exists(idc_download_folder):\n",
    "  os.mkdir(idc_download_folder)\n",
    "\n",
    "selection_manifest = os.path.join(idc_download_folder, \"lctsc_manifest.txt\")\n",
    "selection_df[\"gcs_url\"].to_csv(selection_manifest, header=False, index=False)"
   ]
  },
  {
   "cell_type": "code",
   "execution_count": null,
   "id": "d198b815-46ef-45fe-bf9e-a1215aaa4334",
   "metadata": {},
   "outputs": [],
   "source": [
    "# copy files to staging area\n",
    "# download is this simple!\n",
    "!cat ./IDC_downloads/lctsc_manifest.txt | gsutil -m cp -I gs://miai-staging_bucket/LCTSC"
   ]
  },
  {
   "cell_type": "code",
   "execution_count": null,
   "id": "d1650169-6151-4578-9faa-42f4065c8453",
   "metadata": {},
   "outputs": [],
   "source": [
    "!gsutil ls gs://miai-staging_bucket/CPTAC-LSCC"
   ]
  },
  {
   "cell_type": "code",
   "execution_count": null,
   "id": "80d42158-fa6b-49f5-8a70-e5b4a1d12ea0",
   "metadata": {},
   "outputs": [],
   "source": []
  }
 ],
 "metadata": {
  "environment": {
   "kernel": "python3",
   "name": "common-cu110.m89",
   "type": "gcloud",
   "uri": "gcr.io/deeplearning-platform-release/base-cu110:m89"
  },
  "kernelspec": {
   "display_name": "Python 3",
   "language": "python",
   "name": "python3"
  },
  "language_info": {
   "codemirror_mode": {
    "name": "ipython",
    "version": 3
   },
   "file_extension": ".py",
   "mimetype": "text/x-python",
   "name": "python",
   "nbconvert_exporter": "python",
   "pygments_lexer": "ipython3",
   "version": "3.7.12"
  }
 },
 "nbformat": 4,
 "nbformat_minor": 5
}
