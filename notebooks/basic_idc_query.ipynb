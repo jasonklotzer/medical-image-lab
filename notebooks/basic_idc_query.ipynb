{
 "cells": [
  {
   "cell_type": "code",
   "execution_count": 11,
   "id": "81bf37a4-faed-448b-acbe-edb5d3712366",
   "metadata": {},
   "outputs": [],
   "source": [
    "my_ProjectID = \"medical-imaging-ai\""
   ]
  },
  {
   "cell_type": "code",
   "execution_count": 12,
   "id": "92915303-b5ec-4b70-89f3-8fd352fdb4ee",
   "metadata": {},
   "outputs": [
    {
     "name": "stdout",
     "output_type": "stream",
     "text": [
      "Project ID:  medical-imaging-ai\n"
     ]
    }
   ],
   "source": [
    "import os\n",
    "\n",
    "PROJECT_ID = \"\"\n",
    "\n",
    "if not os.getenv(\"IS_TESTING\"):\n",
    "    # Get your Google Cloud project ID from gcloud\n",
    "    shell_output=!gcloud config list --format 'value(core.project)' 2>/dev/null\n",
    "    PROJECT_ID = shell_output[0]\n",
    "    print(\"Project ID: \", PROJECT_ID)"
   ]
  },
  {
   "cell_type": "code",
   "execution_count": 13,
   "id": "2af5130e-6db6-47db-911c-1c9494300c8d",
   "metadata": {},
   "outputs": [],
   "source": [
    "import numpy as np\n",
    "import pandas as pd\n"
   ]
  },
  {
   "cell_type": "code",
   "execution_count": 23,
   "id": "2910ae51-e384-4d78-bc64-aeafd83f2571",
   "metadata": {},
   "outputs": [],
   "source": [
    "# CT image sample\n",
    "#my_SeriesInstanceUID = \"1.3.6.1.4.1.32722.99.99.232988001551799080335895423941323261228\"\n",
    "\n",
    "# pathology image sample\n",
    "my_SeriesInstanceUID = \"1.3.6.1.4.1.5962.99.1.219702714.188810011.1640897242554.2.0\""
   ]
  },
  {
   "cell_type": "code",
   "execution_count": 6,
   "id": "1850e806-3d6d-4fcb-beee-59448a26ec30",
   "metadata": {},
   "outputs": [
    {
     "name": "stderr",
     "output_type": "stream",
     "text": [
      "Query complete after 0.01s: 100%|██████████| 7/7 [00:00<00:00, 5467.44query/s]                        \n",
      "Downloading: 100%|██████████| 1/1 [00:01<00:00,  1.39s/rows]\n"
     ]
    }
   ],
   "source": [
    "%%bigquery idc_summary_df --project=$my_ProjectID \n",
    "\n",
    "SELECT\n",
    "  COUNT(DISTINCT(PatientID)) AS total_patients,\n",
    "  COUNT(DISTINCT(StudyInstanceUID)) AS total_studies,\n",
    "  COUNT(DISTINCT(SeriesInstanceUID)) AS total_series,\n",
    "  COUNT(DISTINCT(SOPInstanceUID)) AS total_instances,\n",
    "  COUNT(DISTINCT(collection_id)) AS total_collections,\n",
    "  SUM(instance_size)/(POW(1024,4)) AS total_size_TB\n",
    "FROM\n",
    "  `bigquery-public-data.idc_current.dicom_all`"
   ]
  },
  {
   "cell_type": "code",
   "execution_count": 7,
   "id": "d1fc44c1-4fdd-416c-b327-89897a2b52ec",
   "metadata": {},
   "outputs": [
    {
     "data": {
      "text/html": [
       "<div>\n",
       "<style scoped>\n",
       "    .dataframe tbody tr th:only-of-type {\n",
       "        vertical-align: middle;\n",
       "    }\n",
       "\n",
       "    .dataframe tbody tr th {\n",
       "        vertical-align: top;\n",
       "    }\n",
       "\n",
       "    .dataframe thead th {\n",
       "        text-align: right;\n",
       "    }\n",
       "</style>\n",
       "<table border=\"1\" class=\"dataframe\">\n",
       "  <thead>\n",
       "    <tr style=\"text-align: right;\">\n",
       "      <th></th>\n",
       "      <th>total_patients</th>\n",
       "      <th>total_studies</th>\n",
       "      <th>total_series</th>\n",
       "      <th>total_instances</th>\n",
       "      <th>total_collections</th>\n",
       "      <th>total_size_TB</th>\n",
       "    </tr>\n",
       "  </thead>\n",
       "  <tbody>\n",
       "    <tr>\n",
       "      <th>0</th>\n",
       "      <td>64344</td>\n",
       "      <td>138557</td>\n",
       "      <td>468745</td>\n",
       "      <td>39142908</td>\n",
       "      <td>135</td>\n",
       "      <td>37.764894</td>\n",
       "    </tr>\n",
       "  </tbody>\n",
       "</table>\n",
       "</div>"
      ],
      "text/plain": [
       "   total_patients  total_studies  total_series  total_instances  \\\n",
       "0           64344         138557        468745         39142908   \n",
       "\n",
       "   total_collections  total_size_TB  \n",
       "0                135      37.764894  "
      ]
     },
     "execution_count": 7,
     "metadata": {},
     "output_type": "execute_result"
    }
   ],
   "source": [
    "idc_summary_df"
   ]
  },
  {
   "cell_type": "code",
   "execution_count": 24,
   "id": "7db1e35c-6cd9-4411-9030-9d1e11fe4a7d",
   "metadata": {},
   "outputs": [],
   "source": [
    "from google.cloud import bigquery\n",
    "bq_client = bigquery.Client(my_ProjectID)\n",
    "\n",
    "selection_query = f\"\\\n",
    "  SELECT  \\\n",
    "    StudyInstanceUID, \\\n",
    "    SeriesInstanceUID, \\\n",
    "    SOPInstanceUID, \\\n",
    "    gcs_url \\\n",
    "  FROM \\\n",
    "    `bigquery-public-data.idc_current.dicom_all` \\\n",
    "  WHERE \\\n",
    "    SeriesInstanceUID = \\\"{my_SeriesInstanceUID}\\\"\"\n",
    "\n",
    "selection_result = bq_client.query(selection_query)\n",
    "selection_df = selection_result.result().to_dataframe()"
   ]
  },
  {
   "cell_type": "code",
   "execution_count": 25,
   "id": "8b6c83a0-d32e-4ada-bf15-c50ba544489d",
   "metadata": {},
   "outputs": [
    {
     "data": {
      "text/html": [
       "<div>\n",
       "<style scoped>\n",
       "    .dataframe tbody tr th:only-of-type {\n",
       "        vertical-align: middle;\n",
       "    }\n",
       "\n",
       "    .dataframe tbody tr th {\n",
       "        vertical-align: top;\n",
       "    }\n",
       "\n",
       "    .dataframe thead th {\n",
       "        text-align: right;\n",
       "    }\n",
       "</style>\n",
       "<table border=\"1\" class=\"dataframe\">\n",
       "  <thead>\n",
       "    <tr style=\"text-align: right;\">\n",
       "      <th></th>\n",
       "      <th>StudyInstanceUID</th>\n",
       "      <th>SeriesInstanceUID</th>\n",
       "      <th>SOPInstanceUID</th>\n",
       "      <th>gcs_url</th>\n",
       "    </tr>\n",
       "  </thead>\n",
       "  <tbody>\n",
       "    <tr>\n",
       "      <th>0</th>\n",
       "      <td>2.25.16181252012499544165879445836446987048</td>\n",
       "      <td>1.3.6.1.4.1.5962.99.1.219702714.188810011.1640897242554.2.0</td>\n",
       "      <td>1.3.6.1.4.1.5962.99.1.219702714.188810011.1640897242554.35.0</td>\n",
       "      <td>gs://idc-open-idc1/ff2af67d-5f79-4717-b7f4-8028684436dd.dcm</td>\n",
       "    </tr>\n",
       "    <tr>\n",
       "      <th>1</th>\n",
       "      <td>2.25.16181252012499544165879445836446987048</td>\n",
       "      <td>1.3.6.1.4.1.5962.99.1.219702714.188810011.1640897242554.2.0</td>\n",
       "      <td>1.3.6.1.4.1.5962.99.1.219702714.188810011.1640897242554.7.0</td>\n",
       "      <td>gs://idc-open-idc1/fd57f940-f2e5-4898-9989-1f666cac3a09.dcm</td>\n",
       "    </tr>\n",
       "    <tr>\n",
       "      <th>2</th>\n",
       "      <td>2.25.16181252012499544165879445836446987048</td>\n",
       "      <td>1.3.6.1.4.1.5962.99.1.219702714.188810011.1640897242554.2.0</td>\n",
       "      <td>1.3.6.1.4.1.5962.99.1.219702714.188810011.1640897242554.21.0</td>\n",
       "      <td>gs://idc-open-idc1/3ba34f9b-b657-4292-b041-834565635e97.dcm</td>\n",
       "    </tr>\n",
       "    <tr>\n",
       "      <th>3</th>\n",
       "      <td>2.25.16181252012499544165879445836446987048</td>\n",
       "      <td>1.3.6.1.4.1.5962.99.1.219702714.188810011.1640897242554.2.0</td>\n",
       "      <td>1.3.6.1.4.1.5962.99.1.219702714.188810011.1640897242554.14.0</td>\n",
       "      <td>gs://idc-open-idc1/ca35c29d-405b-4ca1-aadb-e831414ae2b6.dcm</td>\n",
       "    </tr>\n",
       "    <tr>\n",
       "      <th>4</th>\n",
       "      <td>2.25.16181252012499544165879445836446987048</td>\n",
       "      <td>1.3.6.1.4.1.5962.99.1.219702714.188810011.1640897242554.2.0</td>\n",
       "      <td>1.3.6.1.4.1.5962.99.1.219702714.188810011.1640897242554.28.0</td>\n",
       "      <td>gs://idc-open-idc1/c92c2940-1033-4cfe-9200-7f733add7f38.dcm</td>\n",
       "    </tr>\n",
       "  </tbody>\n",
       "</table>\n",
       "</div>"
      ],
      "text/plain": [
       "                              StudyInstanceUID  \\\n",
       "0  2.25.16181252012499544165879445836446987048   \n",
       "1  2.25.16181252012499544165879445836446987048   \n",
       "2  2.25.16181252012499544165879445836446987048   \n",
       "3  2.25.16181252012499544165879445836446987048   \n",
       "4  2.25.16181252012499544165879445836446987048   \n",
       "\n",
       "                                             SeriesInstanceUID  \\\n",
       "0  1.3.6.1.4.1.5962.99.1.219702714.188810011.1640897242554.2.0   \n",
       "1  1.3.6.1.4.1.5962.99.1.219702714.188810011.1640897242554.2.0   \n",
       "2  1.3.6.1.4.1.5962.99.1.219702714.188810011.1640897242554.2.0   \n",
       "3  1.3.6.1.4.1.5962.99.1.219702714.188810011.1640897242554.2.0   \n",
       "4  1.3.6.1.4.1.5962.99.1.219702714.188810011.1640897242554.2.0   \n",
       "\n",
       "                                                 SOPInstanceUID  \\\n",
       "0  1.3.6.1.4.1.5962.99.1.219702714.188810011.1640897242554.35.0   \n",
       "1   1.3.6.1.4.1.5962.99.1.219702714.188810011.1640897242554.7.0   \n",
       "2  1.3.6.1.4.1.5962.99.1.219702714.188810011.1640897242554.21.0   \n",
       "3  1.3.6.1.4.1.5962.99.1.219702714.188810011.1640897242554.14.0   \n",
       "4  1.3.6.1.4.1.5962.99.1.219702714.188810011.1640897242554.28.0   \n",
       "\n",
       "                                                       gcs_url  \n",
       "0  gs://idc-open-idc1/ff2af67d-5f79-4717-b7f4-8028684436dd.dcm  \n",
       "1  gs://idc-open-idc1/fd57f940-f2e5-4898-9989-1f666cac3a09.dcm  \n",
       "2  gs://idc-open-idc1/3ba34f9b-b657-4292-b041-834565635e97.dcm  \n",
       "3  gs://idc-open-idc1/ca35c29d-405b-4ca1-aadb-e831414ae2b6.dcm  \n",
       "4  gs://idc-open-idc1/c92c2940-1033-4cfe-9200-7f733add7f38.dcm  "
      ]
     },
     "execution_count": 25,
     "metadata": {},
     "output_type": "execute_result"
    }
   ],
   "source": [
    "pd.set_option('display.max_colwidth', None)\n",
    "\n",
    "selection_df"
   ]
  },
  {
   "cell_type": "code",
   "execution_count": 26,
   "id": "1c9ad98b-ba95-4acb-a99d-d5cf42a66aae",
   "metadata": {},
   "outputs": [],
   "source": [
    "# save the list of files\n",
    "# save the list of GCS URLs into a file\n",
    "import os\n",
    "idc_download_folder = \"./IDC_downloads\"\n",
    "if not os.path.exists(idc_download_folder):\n",
    "  os.mkdir(idc_download_folder)\n",
    "\n",
    "selection_manifest = os.path.join(idc_download_folder, \"idc_manifest.txt\")\n",
    "selection_df[\"gcs_url\"].to_csv(selection_manifest, header=False, index=False)"
   ]
  },
  {
   "cell_type": "code",
   "execution_count": 28,
   "id": "d198b815-46ef-45fe-bf9e-a1215aaa4334",
   "metadata": {},
   "outputs": [
    {
     "name": "stdout",
     "output_type": "stream",
     "text": [
      "Copying gs://idc-open-idc1/ff2af67d-5f79-4717-b7f4-8028684436dd.dcm [Content-Type=application/dicom]...\n",
      "Copying gs://idc-open-idc1/fd57f940-f2e5-4898-9989-1f666cac3a09.dcm [Content-Type=application/dicom]...\n",
      "Copying gs://idc-open-idc1/3ba34f9b-b657-4292-b041-834565635e97.dcm [Content-Type=application/dicom]...\n",
      "Copying gs://idc-open-idc1/c92c2940-1033-4cfe-9200-7f733add7f38.dcm [Content-Type=application/dicom]...\n",
      "Copying gs://idc-open-idc1/ca35c29d-405b-4ca1-aadb-e831414ae2b6.dcm [Content-Type=application/dicom]...\n",
      "\\ [5/5 files][183.3 MiB/183.3 MiB] 100% Done                                    \n",
      "Operation completed over 5 objects/183.3 MiB.                                    \n"
     ]
    }
   ],
   "source": [
    "# copy files to staging area\n",
    "# download is this simple!\n",
    "!cat ./IDC_downloads/idc_manifest.txt | gsutil -m cp -I gs://miai-staging_bucket/CPTAC-LSCC"
   ]
  },
  {
   "cell_type": "code",
   "execution_count": 29,
   "id": "d1650169-6151-4578-9faa-42f4065c8453",
   "metadata": {},
   "outputs": [
    {
     "name": "stdout",
     "output_type": "stream",
     "text": [
      "gs://miai-staging_bucket/CPTAC-LSCC/3ba34f9b-b657-4292-b041-834565635e97.dcm\n",
      "gs://miai-staging_bucket/CPTAC-LSCC/c92c2940-1033-4cfe-9200-7f733add7f38.dcm\n",
      "gs://miai-staging_bucket/CPTAC-LSCC/ca35c29d-405b-4ca1-aadb-e831414ae2b6.dcm\n",
      "gs://miai-staging_bucket/CPTAC-LSCC/fd57f940-f2e5-4898-9989-1f666cac3a09.dcm\n",
      "gs://miai-staging_bucket/CPTAC-LSCC/ff2af67d-5f79-4717-b7f4-8028684436dd.dcm\n"
     ]
    }
   ],
   "source": [
    "!gsutil ls gs://miai-staging_bucket/CPTAC-LSCC"
   ]
  },
  {
   "cell_type": "code",
   "execution_count": null,
   "id": "80d42158-fa6b-49f5-8a70-e5b4a1d12ea0",
   "metadata": {},
   "outputs": [],
   "source": []
  }
 ],
 "metadata": {
  "environment": {
   "kernel": "python3",
   "name": "common-cu110.m89",
   "type": "gcloud",
   "uri": "gcr.io/deeplearning-platform-release/base-cu110:m89"
  },
  "kernelspec": {
   "display_name": "Python 3",
   "language": "python",
   "name": "python3"
  },
  "language_info": {
   "codemirror_mode": {
    "name": "ipython",
    "version": 3
   },
   "file_extension": ".py",
   "mimetype": "text/x-python",
   "name": "python",
   "nbconvert_exporter": "python",
   "pygments_lexer": "ipython3",
   "version": "3.7.12"
  }
 },
 "nbformat": 4,
 "nbformat_minor": 5
}
